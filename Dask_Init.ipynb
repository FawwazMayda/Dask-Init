{
  "nbformat": 4,
  "nbformat_minor": 0,
  "metadata": {
    "colab": {
      "name": "Dask Init.ipynb",
      "provenance": []
    },
    "kernelspec": {
      "name": "python3",
      "display_name": "Python 3"
    },
    "language_info": {
      "name": "python"
    }
  },
  "cells": [
    {
      "cell_type": "code",
      "metadata": {
        "colab": {
          "base_uri": "https://localhost:8080/",
          "height": 128
        },
        "id": "yqoMNQyQz5MG",
        "outputId": "7b053dec-8675-4b13-c63b-d60670e9c438"
      },
      "source": [
        "from dask.distributed import Client, LocalCluster\n",
        "\n",
        "cluster = LocalCluster(diagnostics_port=None)\n",
        "client = Client(cluster)\n",
        "client"
      ],
      "execution_count": null,
      "outputs": [
        {
          "output_type": "execute_result",
          "data": {
            "text/html": [
              "<table style=\"border: 2px solid white;\">\n",
              "<tr>\n",
              "<td style=\"vertical-align: top; border: 0px solid white\">\n",
              "<h3>Client</h3>\n",
              "<ul>\n",
              "  <li><b>Scheduler: </b>tcp://127.0.0.1:34235\n",
              "</ul>\n",
              "</td>\n",
              "<td style=\"vertical-align: top; border: 0px solid white\">\n",
              "<h3>Cluster</h3>\n",
              "<ul>\n",
              "  <li><b>Workers: </b>2</li>\n",
              "  <li><b>Cores: </b>2</li>\n",
              "  <li><b>Memory: </b>13.62 GB</li>\n",
              "</ul>\n",
              "</td>\n",
              "</tr>\n",
              "</table>"
            ],
            "text/plain": [
              "<Client: scheduler='tcp://127.0.0.1:34235' processes=2 cores=2>"
            ]
          },
          "metadata": {
            "tags": []
          },
          "execution_count": 10
        }
      ]
    },
    {
      "cell_type": "code",
      "metadata": {
        "id": "dI776oZrDLQK"
      },
      "source": [
        "!python -m pip install dask[complete]"
      ],
      "execution_count": null,
      "outputs": []
    },
    {
      "cell_type": "code",
      "metadata": {
        "colab": {
          "base_uri": "https://localhost:8080/"
        },
        "id": "LVljP5rKz7QA",
        "outputId": "d751950f-360b-434f-d64d-c7bf9fa809ff"
      },
      "source": [
        "!wget http://eforexcel.com/wp/wp-content/uploads/2020/09/5m-Sales-Records.zip --no-check-certificate"
      ],
      "execution_count": null,
      "outputs": [
        {
          "output_type": "stream",
          "text": [
            "--2021-06-30 03:33:12--  http://eforexcel.com/wp/wp-content/uploads/2020/09/5m-Sales-Records.zip\n",
            "Resolving eforexcel.com (eforexcel.com)... 162.214.80.24\n",
            "Connecting to eforexcel.com (eforexcel.com)|162.214.80.24|:80... connected.\n",
            "HTTP request sent, awaiting response... 200 OK\n",
            "Length: 201708941 (192M) [application/zip]\n",
            "Saving to: ‘5m-Sales-Records.zip’\n",
            "\n",
            "5m-Sales-Records.zi 100%[===================>] 192.36M  54.0MB/s    in 4.0s    \n",
            "\n",
            "2021-06-30 03:33:16 (48.5 MB/s) - ‘5m-Sales-Records.zip’ saved [201708941/201708941]\n",
            "\n"
          ],
          "name": "stdout"
        }
      ]
    },
    {
      "cell_type": "code",
      "metadata": {
        "colab": {
          "base_uri": "https://localhost:8080/"
        },
        "id": "AE6HVJif4S64",
        "outputId": "f0d8aaa6-95a8-4d3c-9620-118f1abe128e"
      },
      "source": [
        "!unzip 5m-Sales-Records.zip"
      ],
      "execution_count": null,
      "outputs": [
        {
          "output_type": "stream",
          "text": [
            "Archive:  5m-Sales-Records.zip\n",
            "  inflating: 5m Sales Records.csv    \n"
          ],
          "name": "stdout"
        }
      ]
    },
    {
      "cell_type": "code",
      "metadata": {
        "colab": {
          "base_uri": "https://localhost:8080/"
        },
        "id": "HJT5RZyP7WgV",
        "outputId": "9792fc7d-fc0f-465a-b45e-027b5cf016d6"
      },
      "source": [
        "!ls"
      ],
      "execution_count": null,
      "outputs": [
        {
          "output_type": "stream",
          "text": [
            "'5m Sales Records.csv'\t dask-worker-space   millionsongsubset.tar.gz\n",
            " 5m-Sales-Records.zip\t MillionSongSubset   sample_data\n"
          ],
          "name": "stdout"
        }
      ]
    },
    {
      "cell_type": "code",
      "metadata": {
        "id": "8A80nAnY_556"
      },
      "source": [
        "import pandas as pd\n",
        "pd_df = pd.read_csv(\"5m Sales Records.csv\")"
      ],
      "execution_count": null,
      "outputs": []
    },
    {
      "cell_type": "code",
      "metadata": {
        "colab": {
          "base_uri": "https://localhost:8080/",
          "height": 545
        },
        "id": "xMTAidHp__87",
        "outputId": "49db8cbd-8a5d-4220-d7dc-0c522e3e6e33"
      },
      "source": [
        "pd_df"
      ],
      "execution_count": null,
      "outputs": [
        {
          "output_type": "execute_result",
          "data": {
            "text/html": [
              "<div>\n",
              "<style scoped>\n",
              "    .dataframe tbody tr th:only-of-type {\n",
              "        vertical-align: middle;\n",
              "    }\n",
              "\n",
              "    .dataframe tbody tr th {\n",
              "        vertical-align: top;\n",
              "    }\n",
              "\n",
              "    .dataframe thead th {\n",
              "        text-align: right;\n",
              "    }\n",
              "</style>\n",
              "<table border=\"1\" class=\"dataframe\">\n",
              "  <thead>\n",
              "    <tr style=\"text-align: right;\">\n",
              "      <th></th>\n",
              "      <th>Region</th>\n",
              "      <th>Country</th>\n",
              "      <th>Item Type</th>\n",
              "      <th>Sales Channel</th>\n",
              "      <th>Order Priority</th>\n",
              "      <th>Order Date</th>\n",
              "      <th>Order ID</th>\n",
              "      <th>Ship Date</th>\n",
              "      <th>Units Sold</th>\n",
              "      <th>Unit Price</th>\n",
              "      <th>Unit Cost</th>\n",
              "      <th>Total Revenue</th>\n",
              "      <th>Total Cost</th>\n",
              "      <th>Total Profit</th>\n",
              "    </tr>\n",
              "  </thead>\n",
              "  <tbody>\n",
              "    <tr>\n",
              "      <th>0</th>\n",
              "      <td>Australia and Oceania</td>\n",
              "      <td>Palau</td>\n",
              "      <td>Office Supplies</td>\n",
              "      <td>Online</td>\n",
              "      <td>H</td>\n",
              "      <td>3/6/2016</td>\n",
              "      <td>517073523</td>\n",
              "      <td>3/26/2016</td>\n",
              "      <td>2401</td>\n",
              "      <td>651.21</td>\n",
              "      <td>524.96</td>\n",
              "      <td>1563555.21</td>\n",
              "      <td>1260428.96</td>\n",
              "      <td>303126.25</td>\n",
              "    </tr>\n",
              "    <tr>\n",
              "      <th>1</th>\n",
              "      <td>Europe</td>\n",
              "      <td>Poland</td>\n",
              "      <td>Beverages</td>\n",
              "      <td>Online</td>\n",
              "      <td>L</td>\n",
              "      <td>4/18/2010</td>\n",
              "      <td>380507028</td>\n",
              "      <td>5/26/2010</td>\n",
              "      <td>9340</td>\n",
              "      <td>47.45</td>\n",
              "      <td>31.79</td>\n",
              "      <td>443183.00</td>\n",
              "      <td>296918.60</td>\n",
              "      <td>146264.40</td>\n",
              "    </tr>\n",
              "    <tr>\n",
              "      <th>2</th>\n",
              "      <td>North America</td>\n",
              "      <td>Canada</td>\n",
              "      <td>Cereal</td>\n",
              "      <td>Online</td>\n",
              "      <td>M</td>\n",
              "      <td>1/8/2015</td>\n",
              "      <td>504055583</td>\n",
              "      <td>1/31/2015</td>\n",
              "      <td>103</td>\n",
              "      <td>205.70</td>\n",
              "      <td>117.11</td>\n",
              "      <td>21187.10</td>\n",
              "      <td>12062.33</td>\n",
              "      <td>9124.77</td>\n",
              "    </tr>\n",
              "    <tr>\n",
              "      <th>3</th>\n",
              "      <td>Europe</td>\n",
              "      <td>Belarus</td>\n",
              "      <td>Snacks</td>\n",
              "      <td>Online</td>\n",
              "      <td>C</td>\n",
              "      <td>1/19/2014</td>\n",
              "      <td>954955518</td>\n",
              "      <td>2/27/2014</td>\n",
              "      <td>1414</td>\n",
              "      <td>152.58</td>\n",
              "      <td>97.44</td>\n",
              "      <td>215748.12</td>\n",
              "      <td>137780.16</td>\n",
              "      <td>77967.96</td>\n",
              "    </tr>\n",
              "    <tr>\n",
              "      <th>4</th>\n",
              "      <td>Middle East and North Africa</td>\n",
              "      <td>Oman</td>\n",
              "      <td>Cereal</td>\n",
              "      <td>Offline</td>\n",
              "      <td>H</td>\n",
              "      <td>4/26/2019</td>\n",
              "      <td>970755660</td>\n",
              "      <td>6/2/2019</td>\n",
              "      <td>7027</td>\n",
              "      <td>205.70</td>\n",
              "      <td>117.11</td>\n",
              "      <td>1445453.90</td>\n",
              "      <td>822931.97</td>\n",
              "      <td>622521.93</td>\n",
              "    </tr>\n",
              "    <tr>\n",
              "      <th>...</th>\n",
              "      <td>...</td>\n",
              "      <td>...</td>\n",
              "      <td>...</td>\n",
              "      <td>...</td>\n",
              "      <td>...</td>\n",
              "      <td>...</td>\n",
              "      <td>...</td>\n",
              "      <td>...</td>\n",
              "      <td>...</td>\n",
              "      <td>...</td>\n",
              "      <td>...</td>\n",
              "      <td>...</td>\n",
              "      <td>...</td>\n",
              "      <td>...</td>\n",
              "    </tr>\n",
              "    <tr>\n",
              "      <th>4999995</th>\n",
              "      <td>Middle East and North Africa</td>\n",
              "      <td>Iraq</td>\n",
              "      <td>Household</td>\n",
              "      <td>Online</td>\n",
              "      <td>L</td>\n",
              "      <td>3/17/2014</td>\n",
              "      <td>940436398</td>\n",
              "      <td>4/23/2014</td>\n",
              "      <td>4884</td>\n",
              "      <td>668.27</td>\n",
              "      <td>502.54</td>\n",
              "      <td>3263830.68</td>\n",
              "      <td>2454405.36</td>\n",
              "      <td>809425.32</td>\n",
              "    </tr>\n",
              "    <tr>\n",
              "      <th>4999996</th>\n",
              "      <td>Europe</td>\n",
              "      <td>Monaco</td>\n",
              "      <td>Meat</td>\n",
              "      <td>Offline</td>\n",
              "      <td>H</td>\n",
              "      <td>11/8/2015</td>\n",
              "      <td>407689177</td>\n",
              "      <td>11/28/2015</td>\n",
              "      <td>3142</td>\n",
              "      <td>421.89</td>\n",
              "      <td>364.69</td>\n",
              "      <td>1325578.38</td>\n",
              "      <td>1145855.98</td>\n",
              "      <td>179722.40</td>\n",
              "    </tr>\n",
              "    <tr>\n",
              "      <th>4999997</th>\n",
              "      <td>Australia and Oceania</td>\n",
              "      <td>Solomon Islands</td>\n",
              "      <td>Clothes</td>\n",
              "      <td>Online</td>\n",
              "      <td>C</td>\n",
              "      <td>6/1/2020</td>\n",
              "      <td>727000367</td>\n",
              "      <td>7/18/2020</td>\n",
              "      <td>4419</td>\n",
              "      <td>109.28</td>\n",
              "      <td>35.84</td>\n",
              "      <td>482908.32</td>\n",
              "      <td>158376.96</td>\n",
              "      <td>324531.36</td>\n",
              "    </tr>\n",
              "    <tr>\n",
              "      <th>4999998</th>\n",
              "      <td>Australia and Oceania</td>\n",
              "      <td>Marshall Islands</td>\n",
              "      <td>Cosmetics</td>\n",
              "      <td>Offline</td>\n",
              "      <td>L</td>\n",
              "      <td>2/12/2020</td>\n",
              "      <td>714043796</td>\n",
              "      <td>3/22/2020</td>\n",
              "      <td>282</td>\n",
              "      <td>437.20</td>\n",
              "      <td>263.33</td>\n",
              "      <td>123290.40</td>\n",
              "      <td>74259.06</td>\n",
              "      <td>49031.34</td>\n",
              "    </tr>\n",
              "    <tr>\n",
              "      <th>4999999</th>\n",
              "      <td>Europe</td>\n",
              "      <td>Greece</td>\n",
              "      <td>Office Supplies</td>\n",
              "      <td>Online</td>\n",
              "      <td>C</td>\n",
              "      <td>5/11/2019</td>\n",
              "      <td>604805791</td>\n",
              "      <td>6/12/2019</td>\n",
              "      <td>4329</td>\n",
              "      <td>651.21</td>\n",
              "      <td>524.96</td>\n",
              "      <td>2819088.09</td>\n",
              "      <td>2272551.84</td>\n",
              "      <td>546536.25</td>\n",
              "    </tr>\n",
              "  </tbody>\n",
              "</table>\n",
              "<p>5000000 rows × 14 columns</p>\n",
              "</div>"
            ],
            "text/plain": [
              "                               Region  ... Total Profit\n",
              "0               Australia and Oceania  ...    303126.25\n",
              "1                              Europe  ...    146264.40\n",
              "2                       North America  ...      9124.77\n",
              "3                              Europe  ...     77967.96\n",
              "4        Middle East and North Africa  ...    622521.93\n",
              "...                               ...  ...          ...\n",
              "4999995  Middle East and North Africa  ...    809425.32\n",
              "4999996                        Europe  ...    179722.40\n",
              "4999997         Australia and Oceania  ...    324531.36\n",
              "4999998         Australia and Oceania  ...     49031.34\n",
              "4999999                        Europe  ...    546536.25\n",
              "\n",
              "[5000000 rows x 14 columns]"
            ]
          },
          "metadata": {
            "tags": []
          },
          "execution_count": 56
        }
      ]
    },
    {
      "cell_type": "code",
      "metadata": {
        "colab": {
          "base_uri": "https://localhost:8080/"
        },
        "id": "GDBTEji-ADlm",
        "outputId": "e04d1406-d239-4ec8-a797-6f5bb324a8ad"
      },
      "source": [
        "pd_df.Region.value_counts()"
      ],
      "execution_count": null,
      "outputs": [
        {
          "output_type": "execute_result",
          "data": {
            "text/plain": [
              "Sub-Saharan Africa                   1297687\n",
              "Europe                               1296674\n",
              "Asia                                  729864\n",
              "Middle East and North Africa          621539\n",
              "Central America and the Caribbean     540528\n",
              "Australia and Oceania                 405577\n",
              "North America                         108131\n",
              "Name: Region, dtype: int64"
            ]
          },
          "metadata": {
            "tags": []
          },
          "execution_count": 57
        }
      ]
    },
    {
      "cell_type": "code",
      "metadata": {
        "id": "DD1tLb00AJfI"
      },
      "source": [
        "dict_region = {\n",
        "    \"Sub-saharan Africa\": 1,\n",
        "    \"Europe\":2,\n",
        "    \"Asia\":3,\n",
        "    \"Middle East and North Africa\":4,\n",
        "    \"Central America and the Caribbean\":5,\n",
        "    \"Australia and Oceania\":6,\n",
        "    \"North America\":7\n",
        "}"
      ],
      "execution_count": null,
      "outputs": []
    },
    {
      "cell_type": "code",
      "metadata": {
        "colab": {
          "base_uri": "https://localhost:8080/"
        },
        "id": "jJMs9IiYGWuK",
        "outputId": "c4d310d1-3503-411a-d323-0b287a7f9407"
      },
      "source": [
        "def slow_code(region_name):\n",
        "  for k,v in dict_region.items():\n",
        "    if k == region_name:\n",
        "      return v\n",
        "  return None\n",
        "slow_code(\"Europe\")"
      ],
      "execution_count": null,
      "outputs": [
        {
          "output_type": "execute_result",
          "data": {
            "text/plain": [
              "2"
            ]
          },
          "metadata": {
            "tags": []
          },
          "execution_count": 75
        }
      ]
    },
    {
      "cell_type": "code",
      "metadata": {
        "id": "Q485wS0VC_Xs"
      },
      "source": [
        "import dask.dataframe as dd\n",
        "dd_df = dd.read_csv(\"5m Sales Records.csv\")"
      ],
      "execution_count": null,
      "outputs": []
    },
    {
      "cell_type": "code",
      "metadata": {
        "colab": {
          "base_uri": "https://localhost:8080/",
          "height": 258
        },
        "id": "fFqi4-D3DHhP",
        "outputId": "338aa24b-3f35-4a61-f324-39b34ff792ef"
      },
      "source": [
        "dd_df.head()"
      ],
      "execution_count": null,
      "outputs": [
        {
          "output_type": "execute_result",
          "data": {
            "text/html": [
              "<div>\n",
              "<style scoped>\n",
              "    .dataframe tbody tr th:only-of-type {\n",
              "        vertical-align: middle;\n",
              "    }\n",
              "\n",
              "    .dataframe tbody tr th {\n",
              "        vertical-align: top;\n",
              "    }\n",
              "\n",
              "    .dataframe thead th {\n",
              "        text-align: right;\n",
              "    }\n",
              "</style>\n",
              "<table border=\"1\" class=\"dataframe\">\n",
              "  <thead>\n",
              "    <tr style=\"text-align: right;\">\n",
              "      <th></th>\n",
              "      <th>Region</th>\n",
              "      <th>Country</th>\n",
              "      <th>Item Type</th>\n",
              "      <th>Sales Channel</th>\n",
              "      <th>Order Priority</th>\n",
              "      <th>Order Date</th>\n",
              "      <th>Order ID</th>\n",
              "      <th>Ship Date</th>\n",
              "      <th>Units Sold</th>\n",
              "      <th>Unit Price</th>\n",
              "      <th>Unit Cost</th>\n",
              "      <th>Total Revenue</th>\n",
              "      <th>Total Cost</th>\n",
              "      <th>Total Profit</th>\n",
              "    </tr>\n",
              "  </thead>\n",
              "  <tbody>\n",
              "    <tr>\n",
              "      <th>0</th>\n",
              "      <td>Australia and Oceania</td>\n",
              "      <td>Palau</td>\n",
              "      <td>Office Supplies</td>\n",
              "      <td>Online</td>\n",
              "      <td>H</td>\n",
              "      <td>3/6/2016</td>\n",
              "      <td>517073523</td>\n",
              "      <td>3/26/2016</td>\n",
              "      <td>2401</td>\n",
              "      <td>651.21</td>\n",
              "      <td>524.96</td>\n",
              "      <td>1563555.21</td>\n",
              "      <td>1260428.96</td>\n",
              "      <td>303126.25</td>\n",
              "    </tr>\n",
              "    <tr>\n",
              "      <th>1</th>\n",
              "      <td>Europe</td>\n",
              "      <td>Poland</td>\n",
              "      <td>Beverages</td>\n",
              "      <td>Online</td>\n",
              "      <td>L</td>\n",
              "      <td>4/18/2010</td>\n",
              "      <td>380507028</td>\n",
              "      <td>5/26/2010</td>\n",
              "      <td>9340</td>\n",
              "      <td>47.45</td>\n",
              "      <td>31.79</td>\n",
              "      <td>443183.00</td>\n",
              "      <td>296918.60</td>\n",
              "      <td>146264.40</td>\n",
              "    </tr>\n",
              "    <tr>\n",
              "      <th>2</th>\n",
              "      <td>North America</td>\n",
              "      <td>Canada</td>\n",
              "      <td>Cereal</td>\n",
              "      <td>Online</td>\n",
              "      <td>M</td>\n",
              "      <td>1/8/2015</td>\n",
              "      <td>504055583</td>\n",
              "      <td>1/31/2015</td>\n",
              "      <td>103</td>\n",
              "      <td>205.70</td>\n",
              "      <td>117.11</td>\n",
              "      <td>21187.10</td>\n",
              "      <td>12062.33</td>\n",
              "      <td>9124.77</td>\n",
              "    </tr>\n",
              "    <tr>\n",
              "      <th>3</th>\n",
              "      <td>Europe</td>\n",
              "      <td>Belarus</td>\n",
              "      <td>Snacks</td>\n",
              "      <td>Online</td>\n",
              "      <td>C</td>\n",
              "      <td>1/19/2014</td>\n",
              "      <td>954955518</td>\n",
              "      <td>2/27/2014</td>\n",
              "      <td>1414</td>\n",
              "      <td>152.58</td>\n",
              "      <td>97.44</td>\n",
              "      <td>215748.12</td>\n",
              "      <td>137780.16</td>\n",
              "      <td>77967.96</td>\n",
              "    </tr>\n",
              "    <tr>\n",
              "      <th>4</th>\n",
              "      <td>Middle East and North Africa</td>\n",
              "      <td>Oman</td>\n",
              "      <td>Cereal</td>\n",
              "      <td>Offline</td>\n",
              "      <td>H</td>\n",
              "      <td>4/26/2019</td>\n",
              "      <td>970755660</td>\n",
              "      <td>6/2/2019</td>\n",
              "      <td>7027</td>\n",
              "      <td>205.70</td>\n",
              "      <td>117.11</td>\n",
              "      <td>1445453.90</td>\n",
              "      <td>822931.97</td>\n",
              "      <td>622521.93</td>\n",
              "    </tr>\n",
              "  </tbody>\n",
              "</table>\n",
              "</div>"
            ],
            "text/plain": [
              "                         Region  Country  ...  Total Cost Total Profit\n",
              "0         Australia and Oceania    Palau  ...  1260428.96    303126.25\n",
              "1                        Europe   Poland  ...   296918.60    146264.40\n",
              "2                 North America   Canada  ...    12062.33      9124.77\n",
              "3                        Europe  Belarus  ...   137780.16     77967.96\n",
              "4  Middle East and North Africa     Oman  ...   822931.97    622521.93\n",
              "\n",
              "[5 rows x 14 columns]"
            ]
          },
          "metadata": {
            "tags": []
          },
          "execution_count": 77
        }
      ]
    },
    {
      "cell_type": "code",
      "metadata": {
        "colab": {
          "base_uri": "https://localhost:8080/"
        },
        "id": "kXBAoMxlDdR5",
        "outputId": "62895e47-e046-428f-80af-27cebeaa06b2"
      },
      "source": [
        "%%time\n",
        "# Normal Pandas\n",
        "pd_df[\"RegionCode\"] = pd_df.Region.map(slow_code)"
      ],
      "execution_count": null,
      "outputs": [
        {
          "output_type": "stream",
          "text": [
            "CPU times: user 3.2 s, sys: 10.5 ms, total: 3.21 s\n",
            "Wall time: 3.22 s\n"
          ],
          "name": "stdout"
        }
      ]
    },
    {
      "cell_type": "code",
      "metadata": {
        "colab": {
          "base_uri": "https://localhost:8080/",
          "height": 258
        },
        "id": "mj87LG5TEhmp",
        "outputId": "b84b80d5-c9d5-44be-e868-1292af6d6ac2"
      },
      "source": [
        "pd_df.head()"
      ],
      "execution_count": null,
      "outputs": [
        {
          "output_type": "execute_result",
          "data": {
            "text/html": [
              "<div>\n",
              "<style scoped>\n",
              "    .dataframe tbody tr th:only-of-type {\n",
              "        vertical-align: middle;\n",
              "    }\n",
              "\n",
              "    .dataframe tbody tr th {\n",
              "        vertical-align: top;\n",
              "    }\n",
              "\n",
              "    .dataframe thead th {\n",
              "        text-align: right;\n",
              "    }\n",
              "</style>\n",
              "<table border=\"1\" class=\"dataframe\">\n",
              "  <thead>\n",
              "    <tr style=\"text-align: right;\">\n",
              "      <th></th>\n",
              "      <th>Region</th>\n",
              "      <th>Country</th>\n",
              "      <th>Item Type</th>\n",
              "      <th>Sales Channel</th>\n",
              "      <th>Order Priority</th>\n",
              "      <th>Order Date</th>\n",
              "      <th>Order ID</th>\n",
              "      <th>Ship Date</th>\n",
              "      <th>Units Sold</th>\n",
              "      <th>Unit Price</th>\n",
              "      <th>Unit Cost</th>\n",
              "      <th>Total Revenue</th>\n",
              "      <th>Total Cost</th>\n",
              "      <th>Total Profit</th>\n",
              "      <th>RegionCode</th>\n",
              "    </tr>\n",
              "  </thead>\n",
              "  <tbody>\n",
              "    <tr>\n",
              "      <th>0</th>\n",
              "      <td>Australia and Oceania</td>\n",
              "      <td>Palau</td>\n",
              "      <td>Office Supplies</td>\n",
              "      <td>Online</td>\n",
              "      <td>H</td>\n",
              "      <td>3/6/2016</td>\n",
              "      <td>517073523</td>\n",
              "      <td>3/26/2016</td>\n",
              "      <td>2401</td>\n",
              "      <td>651.21</td>\n",
              "      <td>524.96</td>\n",
              "      <td>1563555.21</td>\n",
              "      <td>1260428.96</td>\n",
              "      <td>303126.25</td>\n",
              "      <td>6.0</td>\n",
              "    </tr>\n",
              "    <tr>\n",
              "      <th>1</th>\n",
              "      <td>Europe</td>\n",
              "      <td>Poland</td>\n",
              "      <td>Beverages</td>\n",
              "      <td>Online</td>\n",
              "      <td>L</td>\n",
              "      <td>4/18/2010</td>\n",
              "      <td>380507028</td>\n",
              "      <td>5/26/2010</td>\n",
              "      <td>9340</td>\n",
              "      <td>47.45</td>\n",
              "      <td>31.79</td>\n",
              "      <td>443183.00</td>\n",
              "      <td>296918.60</td>\n",
              "      <td>146264.40</td>\n",
              "      <td>2.0</td>\n",
              "    </tr>\n",
              "    <tr>\n",
              "      <th>2</th>\n",
              "      <td>North America</td>\n",
              "      <td>Canada</td>\n",
              "      <td>Cereal</td>\n",
              "      <td>Online</td>\n",
              "      <td>M</td>\n",
              "      <td>1/8/2015</td>\n",
              "      <td>504055583</td>\n",
              "      <td>1/31/2015</td>\n",
              "      <td>103</td>\n",
              "      <td>205.70</td>\n",
              "      <td>117.11</td>\n",
              "      <td>21187.10</td>\n",
              "      <td>12062.33</td>\n",
              "      <td>9124.77</td>\n",
              "      <td>7.0</td>\n",
              "    </tr>\n",
              "    <tr>\n",
              "      <th>3</th>\n",
              "      <td>Europe</td>\n",
              "      <td>Belarus</td>\n",
              "      <td>Snacks</td>\n",
              "      <td>Online</td>\n",
              "      <td>C</td>\n",
              "      <td>1/19/2014</td>\n",
              "      <td>954955518</td>\n",
              "      <td>2/27/2014</td>\n",
              "      <td>1414</td>\n",
              "      <td>152.58</td>\n",
              "      <td>97.44</td>\n",
              "      <td>215748.12</td>\n",
              "      <td>137780.16</td>\n",
              "      <td>77967.96</td>\n",
              "      <td>2.0</td>\n",
              "    </tr>\n",
              "    <tr>\n",
              "      <th>4</th>\n",
              "      <td>Middle East and North Africa</td>\n",
              "      <td>Oman</td>\n",
              "      <td>Cereal</td>\n",
              "      <td>Offline</td>\n",
              "      <td>H</td>\n",
              "      <td>4/26/2019</td>\n",
              "      <td>970755660</td>\n",
              "      <td>6/2/2019</td>\n",
              "      <td>7027</td>\n",
              "      <td>205.70</td>\n",
              "      <td>117.11</td>\n",
              "      <td>1445453.90</td>\n",
              "      <td>822931.97</td>\n",
              "      <td>622521.93</td>\n",
              "      <td>4.0</td>\n",
              "    </tr>\n",
              "  </tbody>\n",
              "</table>\n",
              "</div>"
            ],
            "text/plain": [
              "                         Region  Country  ... Total Profit RegionCode\n",
              "0         Australia and Oceania    Palau  ...    303126.25        6.0\n",
              "1                        Europe   Poland  ...    146264.40        2.0\n",
              "2                 North America   Canada  ...      9124.77        7.0\n",
              "3                        Europe  Belarus  ...     77967.96        2.0\n",
              "4  Middle East and North Africa     Oman  ...    622521.93        4.0\n",
              "\n",
              "[5 rows x 15 columns]"
            ]
          },
          "metadata": {
            "tags": []
          },
          "execution_count": 83
        }
      ]
    },
    {
      "cell_type": "code",
      "metadata": {
        "colab": {
          "base_uri": "https://localhost:8080/"
        },
        "id": "yRycEdoNDiIc",
        "outputId": "06ba675d-2fa1-49d7-fc47-5d0c51bbbcd4"
      },
      "source": [
        "%%time\n",
        "# Dask\n",
        "dd_df = dd_df.assign(RegionCode = dd_df.Region.map(slow_code,meta=(None,int)))"
      ],
      "execution_count": null,
      "outputs": [
        {
          "output_type": "stream",
          "text": [
            "CPU times: user 7.33 ms, sys: 780 µs, total: 8.11 ms\n",
            "Wall time: 8.69 ms\n"
          ],
          "name": "stdout"
        }
      ]
    },
    {
      "cell_type": "code",
      "metadata": {
        "colab": {
          "base_uri": "https://localhost:8080/",
          "height": 258
        },
        "id": "ru0omf8xEVzP",
        "outputId": "dd034ad7-e1c2-4569-860e-144a5145421d"
      },
      "source": [
        "dd_df.head()"
      ],
      "execution_count": null,
      "outputs": [
        {
          "output_type": "execute_result",
          "data": {
            "text/html": [
              "<div>\n",
              "<style scoped>\n",
              "    .dataframe tbody tr th:only-of-type {\n",
              "        vertical-align: middle;\n",
              "    }\n",
              "\n",
              "    .dataframe tbody tr th {\n",
              "        vertical-align: top;\n",
              "    }\n",
              "\n",
              "    .dataframe thead th {\n",
              "        text-align: right;\n",
              "    }\n",
              "</style>\n",
              "<table border=\"1\" class=\"dataframe\">\n",
              "  <thead>\n",
              "    <tr style=\"text-align: right;\">\n",
              "      <th></th>\n",
              "      <th>Region</th>\n",
              "      <th>Country</th>\n",
              "      <th>Item Type</th>\n",
              "      <th>Sales Channel</th>\n",
              "      <th>Order Priority</th>\n",
              "      <th>Order Date</th>\n",
              "      <th>Order ID</th>\n",
              "      <th>Ship Date</th>\n",
              "      <th>Units Sold</th>\n",
              "      <th>Unit Price</th>\n",
              "      <th>Unit Cost</th>\n",
              "      <th>Total Revenue</th>\n",
              "      <th>Total Cost</th>\n",
              "      <th>Total Profit</th>\n",
              "      <th>RegionCode</th>\n",
              "    </tr>\n",
              "  </thead>\n",
              "  <tbody>\n",
              "    <tr>\n",
              "      <th>0</th>\n",
              "      <td>Australia and Oceania</td>\n",
              "      <td>Palau</td>\n",
              "      <td>Office Supplies</td>\n",
              "      <td>Online</td>\n",
              "      <td>H</td>\n",
              "      <td>3/6/2016</td>\n",
              "      <td>517073523</td>\n",
              "      <td>3/26/2016</td>\n",
              "      <td>2401</td>\n",
              "      <td>651.21</td>\n",
              "      <td>524.96</td>\n",
              "      <td>1563555.21</td>\n",
              "      <td>1260428.96</td>\n",
              "      <td>303126.25</td>\n",
              "      <td>6.0</td>\n",
              "    </tr>\n",
              "    <tr>\n",
              "      <th>1</th>\n",
              "      <td>Europe</td>\n",
              "      <td>Poland</td>\n",
              "      <td>Beverages</td>\n",
              "      <td>Online</td>\n",
              "      <td>L</td>\n",
              "      <td>4/18/2010</td>\n",
              "      <td>380507028</td>\n",
              "      <td>5/26/2010</td>\n",
              "      <td>9340</td>\n",
              "      <td>47.45</td>\n",
              "      <td>31.79</td>\n",
              "      <td>443183.00</td>\n",
              "      <td>296918.60</td>\n",
              "      <td>146264.40</td>\n",
              "      <td>2.0</td>\n",
              "    </tr>\n",
              "    <tr>\n",
              "      <th>2</th>\n",
              "      <td>North America</td>\n",
              "      <td>Canada</td>\n",
              "      <td>Cereal</td>\n",
              "      <td>Online</td>\n",
              "      <td>M</td>\n",
              "      <td>1/8/2015</td>\n",
              "      <td>504055583</td>\n",
              "      <td>1/31/2015</td>\n",
              "      <td>103</td>\n",
              "      <td>205.70</td>\n",
              "      <td>117.11</td>\n",
              "      <td>21187.10</td>\n",
              "      <td>12062.33</td>\n",
              "      <td>9124.77</td>\n",
              "      <td>7.0</td>\n",
              "    </tr>\n",
              "    <tr>\n",
              "      <th>3</th>\n",
              "      <td>Europe</td>\n",
              "      <td>Belarus</td>\n",
              "      <td>Snacks</td>\n",
              "      <td>Online</td>\n",
              "      <td>C</td>\n",
              "      <td>1/19/2014</td>\n",
              "      <td>954955518</td>\n",
              "      <td>2/27/2014</td>\n",
              "      <td>1414</td>\n",
              "      <td>152.58</td>\n",
              "      <td>97.44</td>\n",
              "      <td>215748.12</td>\n",
              "      <td>137780.16</td>\n",
              "      <td>77967.96</td>\n",
              "      <td>2.0</td>\n",
              "    </tr>\n",
              "    <tr>\n",
              "      <th>4</th>\n",
              "      <td>Middle East and North Africa</td>\n",
              "      <td>Oman</td>\n",
              "      <td>Cereal</td>\n",
              "      <td>Offline</td>\n",
              "      <td>H</td>\n",
              "      <td>4/26/2019</td>\n",
              "      <td>970755660</td>\n",
              "      <td>6/2/2019</td>\n",
              "      <td>7027</td>\n",
              "      <td>205.70</td>\n",
              "      <td>117.11</td>\n",
              "      <td>1445453.90</td>\n",
              "      <td>822931.97</td>\n",
              "      <td>622521.93</td>\n",
              "      <td>4.0</td>\n",
              "    </tr>\n",
              "  </tbody>\n",
              "</table>\n",
              "</div>"
            ],
            "text/plain": [
              "                         Region  Country  ... Total Profit RegionCode\n",
              "0         Australia and Oceania    Palau  ...    303126.25        6.0\n",
              "1                        Europe   Poland  ...    146264.40        2.0\n",
              "2                 North America   Canada  ...      9124.77        7.0\n",
              "3                        Europe  Belarus  ...     77967.96        2.0\n",
              "4  Middle East and North Africa     Oman  ...    622521.93        4.0\n",
              "\n",
              "[5 rows x 15 columns]"
            ]
          },
          "metadata": {
            "tags": []
          },
          "execution_count": 85
        }
      ]
    },
    {
      "cell_type": "code",
      "metadata": {
        "id": "zgHOoQDhEauy"
      },
      "source": [
        ""
      ],
      "execution_count": null,
      "outputs": []
    }
  ]
}